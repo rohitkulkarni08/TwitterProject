{
 "cells": [
  {
   "cell_type": "code",
   "execution_count": 1,
   "metadata": {},
   "outputs": [],
   "source": [
    "import json"
   ]
  },
  {
   "cell_type": "code",
   "execution_count": 2,
   "metadata": {},
   "outputs": [],
   "source": [
    "import tweepy"
   ]
  },
  {
   "cell_type": "code",
   "execution_count": 3,
   "metadata": {},
   "outputs": [],
   "source": [
    "consumer_key = '3guBBVzKeELlsxCU8kB2HGNt1'\n",
    "consumer_secret = 'e5xvFrF25aXZuXGLVoDOABVFaPP6D2jnt5QlpRnSv6kV0ba6si'\n",
    "access_token = '2483281548-y6MqHb1ibJo6slc3650XITQiNLl0Pu9xe0diOz0'\n",
    "access_token_secret = 'CP8qCQU0Aqt7pExFNskovu8xsVQn4ZcNTLfFJxnWzbSaN'"
   ]
  },
  {
   "cell_type": "code",
   "execution_count": 4,
   "metadata": {},
   "outputs": [],
   "source": [
    "auth = tweepy.OAuthHandler(consumer_key, consumer_secret)\n",
    "auth.set_access_token(access_token, access_token_secret)\n",
    "api = tweepy.API(auth)"
   ]
  },
  {
   "cell_type": "code",
   "execution_count": 65,
   "metadata": {},
   "outputs": [],
   "source": [
    "tweets_list = tweepy.Cursor(api.search, q=\"#Covid-19\",tweet_mode='extended',lang='en').items(5)"
   ]
  },
  {
   "cell_type": "code",
   "execution_count": 39,
   "metadata": {},
   "outputs": [],
   "source": []
  },
  {
   "cell_type": "code",
   "execution_count": 66,
   "metadata": {},
   "outputs": [],
   "source": [
    "output = []\n",
    "for tweet in tweets_list:\n",
    "    favourite_count = tweet.favorite_count\n",
    "    retweet_count = tweet.retweet_count\n",
    "    line = {'text' : tweet.full_text, 'id':tweet.id_str, 'favourite_count' : favourite_count, 'retweet_count' : retweet_count}\n",
    "    output.append(line)"
   ]
  },
  {
   "cell_type": "code",
   "execution_count": 67,
   "metadata": {},
   "outputs": [
    {
     "data": {
      "text/plain": [
       "[{'text': 'COVID-19 Vaccines 🇮🇪\\n(Sunday / 29-08-21)\\n\\n‣ At least one dose: 3,678,537 (+9,083)\\n‣ Fully vaccinated: 3,355,485 (+9,268)\\n‣ Total: 6,801,702 (+18,315)\\n\\n‣ 12+ with at least one dose: ~87.9%\\n‣ 12+ fully vaccinated: ~80.2%',\n",
       "  'id': '1432337817074536455',\n",
       "  'favourite_count': 0,\n",
       "  'retweet_count': 0},\n",
       " {'text': 'RT @UKCovid19Stats: Northern Ireland Daily Coronavirus (COVID-19) Report · Monday 30th August.\\n\\n1,259 new cases (people positive) reported,…',\n",
       "  'id': '1432337813823950848',\n",
       "  'favourite_count': 0,\n",
       "  'retweet_count': 7},\n",
       " {'text': 'Students at Sandusky High School, Middle School return to virtual learning due to COVID-19 https://t.co/8Q0zTOZPjA',\n",
       "  'id': '1432337813366841352',\n",
       "  'favourite_count': 0,\n",
       "  'retweet_count': 0},\n",
       " {'text': \"RT @Booker4KY: Kentucky, the game is changing with COVID-19, and we need to come together if we're going to beat this virus.\\n\\nOur campaign…\",\n",
       "  'id': '1432337813241044995',\n",
       "  'favourite_count': 0,\n",
       "  'retweet_count': 30},\n",
       " {'text': '(gene therapy \"vaccine\" not required)\\n\\nPeer-reviewed Public Health Covid-19 Treatment Protocol\\n\\nAust government-approved, Borody\\'s Triple Therapy using Ivermectin with Zinc &amp; Doxycycline. Just have your Doctor email Professor Thomas Borody gp@cdd.com.au\\n\\nhttps://t.co/x0RXQbLbhl',\n",
       "  'id': '1432337812808896514',\n",
       "  'favourite_count': 0,\n",
       "  'retweet_count': 0}]"
      ]
     },
     "execution_count": 67,
     "metadata": {},
     "output_type": "execute_result"
    }
   ],
   "source": [
    "output"
   ]
  },
  {
   "cell_type": "code",
   "execution_count": 49,
   "metadata": {},
   "outputs": [
    {
     "data": {
      "text/plain": [
       "list"
      ]
     },
     "execution_count": 49,
     "metadata": {},
     "output_type": "execute_result"
    }
   ],
   "source": [
    "type(output)"
   ]
  },
  {
   "cell_type": "code",
   "execution_count": 61,
   "metadata": {},
   "outputs": [],
   "source": [
    "for dic in output:\n",
    "    x=json.dumps(dic) "
   ]
  },
  {
   "cell_type": "code",
   "execution_count": 62,
   "metadata": {},
   "outputs": [],
   "source": [
    "with open(\"sample.json\", \"w\") as outfile:\n",
    "    json.dump(output, outfile)"
   ]
  },
  {
   "cell_type": "code",
   "execution_count": null,
   "metadata": {},
   "outputs": [],
   "source": []
  }
 ],
 "metadata": {
  "kernelspec": {
   "display_name": "Python 3",
   "language": "python",
   "name": "python3"
  },
  "language_info": {
   "codemirror_mode": {
    "name": "ipython",
    "version": 3
   },
   "file_extension": ".py",
   "mimetype": "text/x-python",
   "name": "python",
   "nbconvert_exporter": "python",
   "pygments_lexer": "ipython3",
   "version": "3.8.5"
  }
 },
 "nbformat": 4,
 "nbformat_minor": 4
}
