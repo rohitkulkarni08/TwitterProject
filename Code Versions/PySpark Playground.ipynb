{
 "cells": [
  {
   "cell_type": "code",
   "execution_count": 13,
   "metadata": {},
   "outputs": [],
   "source": [
    "import json\n",
    "import pandas as pd\n",
    "from pyspark.sql.functions import *\n",
    "import numpy as np"
   ]
  },
  {
   "cell_type": "code",
   "execution_count": 4,
   "metadata": {},
   "outputs": [
    {
     "name": "stdout",
     "output_type": "stream",
     "text": [
      "<pyspark.sql.session.SparkSession object at 0x000001A2DA3049D0>\n"
     ]
    }
   ],
   "source": [
    "import findspark\n",
    "findspark.init()\n",
    "from pyspark import SparkConf, SparkContext\n",
    "from pyspark.sql import SparkSession\n",
    "from pyspark.sql import *\n",
    "from pyspark.sql.functions import *\n",
    "conf = SparkConf().setMaster(\"local\").setAppName(\"PySpark_feature_eng\")\n",
    "spark = SparkSession.builder.getOrCreate()\n",
    "print(spark)"
   ]
  },
  {
   "cell_type": "code",
   "execution_count": 52,
   "metadata": {},
   "outputs": [],
   "source": [
    "df =  spark.createDataFrame(pd.read_json('vaccination-v1.json'))"
   ]
  },
  {
   "cell_type": "code",
   "execution_count": 53,
   "metadata": {},
   "outputs": [
    {
     "name": "stdout",
     "output_type": "stream",
     "text": [
      "+-------------------+---------------+--------------------+---------------+-------------+--------------------+--------------------+\n",
      "|                 id|       username|                text|favourite_count|retweet_count|              source|            location|\n",
      "+-------------------+---------------+--------------------+---------------+-------------+--------------------+--------------------+\n",
      "|1432724865807790080| EdgarEllenPope|RT @IANPPC613: 🚨...|              0|            5|  Twitter for iPhone|                    |\n",
      "|1432724757351440384|   EastMedPulse|RT @StPapagiannea...|              0|            6|    Twitter for iPad|  East Meditteranean|\n",
      "|1432724719334211584|      aneesinha|1 crore doses, 2 ...|              0|            0|  Twitter for iPhone|              Mumbai|\n",
      "|1432724628334518272|    avanindra43|RT @VikashSharmaI...|              0|            3| Twitter for Android|गाजीपुर उत्तर प्रदेश|\n",
      "|1432724388458156032|       covid_nl|@CVaccinebot 🇳🇱...|              0|            0|    CovidAnalyticsNL|         Netherlands|\n",
      "|1432724293608251392|    CVaccinebot|RT @CVaccinebot: ...|              0|            2|Covid Vaccine Rol...|                    |\n",
      "|1432724256043855872|      zigxxabby|This makes alot o...|              0|            0|     Twitter Web App|                 Lae|\n",
      "|1432724223198441472|IndependentSol4|RT @AnnalsofIM: C...|              0|           14|     Twitter Web App|Independent Solut...|\n",
      "|1432724151148634112|    CVaccinebot|🌎 Global COVID-1...|              0|            2|Covid Vaccine Rol...|                    |\n",
      "|1432723627745505280|   dakshaydesai|*1.09cr vaccines ...|              0|            0| Twitter for Android|              mumbai|\n",
      "|1432723292100730880|PTBDirectAction|RT @GuidoHoogervo...|              0|            1|     Twitter Web App|                  UK|\n",
      "|1432723219472027648|         raqisd|RT @TaisonBell: A...|              0|           22|  Twitter for iPhone|                    |\n",
      "|1432723077062823936|       eastknow|The Interior Heal...|              0|            0|     Twitter Web App|       East Kootenay|\n",
      "|1432723062290518016|vineeth_gajjela|RT @actor_Nikhil:...|              0|          244| Twitter for Android|                    |\n",
      "|1432722953565790208| AlbertaPitbull|RT @picardonhealt...|              0|           19|  Twitter for iPhone|         AB, Canada.|\n",
      "|1432722634639351808| VikashSharmaIB|RT @VikashSharmaI...|              0|            3| Twitter for Android|         Pune, India|\n",
      "|1432722603769307136|  MedicalLabMLO|#Medicaid and #CH...|              0|            0|       Sprout Social|   Sarasota, Florida|\n",
      "|1432722548773507072|     jazzmanahn|Comparison of #SA...|              0|            0|    Twitter for iPad|                    |\n",
      "|1432722527894347776|        kim1212|RT @dylanblackrad...|              0|           10|  Twitter for iPhone|                    |\n",
      "|1432722515978334208|  nitin_sirohi_|RT @VikashSharmaI...|              0|            3| Twitter for Android|                    |\n",
      "+-------------------+---------------+--------------------+---------------+-------------+--------------------+--------------------+\n",
      "only showing top 20 rows\n",
      "\n"
     ]
    }
   ],
   "source": [
    "df.show()"
   ]
  },
  {
   "cell_type": "code",
   "execution_count": 54,
   "metadata": {},
   "outputs": [
    {
     "name": "stdout",
     "output_type": "stream",
     "text": [
      "+-------------------+---------------+--------------------+---------------+-------------+-------------------+--------------------+\n",
      "|                 id|       username|                text|favourite_count|retweet_count|             source|            location|\n",
      "+-------------------+---------------+--------------------+---------------+-------------+-------------------+--------------------+\n",
      "|1432724757351440384|   EastMedPulse|RT @StPapagiannea...|              0|            6|   Twitter for iPad|  East Meditteranean|\n",
      "|1432724719334211584|      aneesinha|1 crore doses, 2 ...|              0|            0| Twitter for iPhone|              Mumbai|\n",
      "|1432724628334518272|    avanindra43|RT @VikashSharmaI...|              0|            3|Twitter for Android|गाजीपुर उत्तर प्रदेश|\n",
      "|1432724388458156032|       covid_nl|@CVaccinebot 🇳🇱...|              0|            0|   CovidAnalyticsNL|         Netherlands|\n",
      "|1432724256043855872|      zigxxabby|This makes alot o...|              0|            0|    Twitter Web App|                 Lae|\n",
      "|1432724223198441472|IndependentSol4|RT @AnnalsofIM: C...|              0|           14|    Twitter Web App|Independent Solut...|\n",
      "|1432723627745505280|   dakshaydesai|*1.09cr vaccines ...|              0|            0|Twitter for Android|              mumbai|\n",
      "|1432723292100730880|PTBDirectAction|RT @GuidoHoogervo...|              0|            1|    Twitter Web App|                  UK|\n",
      "|1432723077062823936|       eastknow|The Interior Heal...|              0|            0|    Twitter Web App|       East Kootenay|\n",
      "|1432722953565790208| AlbertaPitbull|RT @picardonhealt...|              0|           19| Twitter for iPhone|         AB, Canada.|\n",
      "|1432722634639351808| VikashSharmaIB|RT @VikashSharmaI...|              0|            3|Twitter for Android|         Pune, India|\n",
      "|1432722603769307136|  MedicalLabMLO|#Medicaid and #CH...|              0|            0|      Sprout Social|   Sarasota, Florida|\n",
      "|1432722456062668800| VikashSharmaIB|India sets anothe...|              3|            3|Twitter for Android|         Pune, India|\n",
      "|1432722165133033472|     im_Gopal94|RT @outbreak_indi...|              0|            1|Twitter for Android|      Chennai, India|\n",
      "|1432722098749849600|      TheLancet|RT @LancetGH: The...|              0|            9|             Buffer|London, New York,...|\n",
      "|1432722066567008256|     acidicapt_|RT @pushpchaudhar...|              0|            1|    RT BOT Adyaveer|      Cuttack, India|\n",
      "|1432721919145545728|    jenni_israd|RT @picardonhealt...|              0|           19|Twitter for Android|my house, somewhe...|\n",
      "|1432721808319520768| pushpchaudhary|Hello @INCIndia  ...|              0|            1|Twitter for Android|     भारत में हर जगह|\n",
      "|1432721475740504064|ScottPiatkowski|RT @picardonhealt...|              0|           19|    Twitter Web App|   Waterloo, Ontario|\n",
      "|1432721473895079936|  appu_chandran|RT @MJ_007Club: W...|              0|           15|Twitter for Android|          Mavelikara|\n",
      "+-------------------+---------------+--------------------+---------------+-------------+-------------------+--------------------+\n",
      "only showing top 20 rows\n",
      "\n"
     ]
    }
   ],
   "source": [
    "def blank_as_null(x):\n",
    "    return when(col(x) != \"\", col(x)).otherwise(None)\n",
    "\n",
    "dfWithEmptyReplaced = df.withColumn(\"location\", blank_as_null(\"location\"))\n",
    "\n",
    "df=dfWithEmptyReplaced.na.drop()\n",
    "df.show()"
   ]
  },
  {
   "cell_type": "code",
   "execution_count": 55,
   "metadata": {},
   "outputs": [
    {
     "data": {
      "text/plain": [
       "1012"
      ]
     },
     "execution_count": 55,
     "metadata": {},
     "output_type": "execute_result"
    }
   ],
   "source": [
    "df.count()"
   ]
  },
  {
   "cell_type": "code",
   "execution_count": 56,
   "metadata": {},
   "outputs": [
    {
     "data": {
      "text/plain": [
       "675"
      ]
     },
     "execution_count": 56,
     "metadata": {},
     "output_type": "execute_result"
    }
   ],
   "source": [
    "df=df.dropDuplicates(['text'])\n",
    "df.count()"
   ]
  }
 ],
 "metadata": {
  "kernelspec": {
   "display_name": "Python 3",
   "language": "python",
   "name": "python3"
  },
  "language_info": {
   "codemirror_mode": {
    "name": "ipython",
    "version": 3
   },
   "file_extension": ".py",
   "mimetype": "text/x-python",
   "name": "python",
   "nbconvert_exporter": "python",
   "pygments_lexer": "ipython3",
   "version": "3.8.5"
  }
 },
 "nbformat": 4,
 "nbformat_minor": 4
}
