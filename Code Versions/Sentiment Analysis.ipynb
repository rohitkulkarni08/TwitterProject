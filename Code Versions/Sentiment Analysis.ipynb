{
 "cells": [
  {
   "cell_type": "code",
   "execution_count": 37,
   "metadata": {
    "ExecuteTime": {
     "end_time": "2021-09-01T11:46:46.484256Z",
     "start_time": "2021-09-01T11:46:46.477302Z"
    }
   },
   "outputs": [],
   "source": [
    "import json"
   ]
  },
  {
   "cell_type": "code",
   "execution_count": 38,
   "metadata": {
    "ExecuteTime": {
     "end_time": "2021-09-01T11:46:47.116084Z",
     "start_time": "2021-09-01T11:46:47.101874Z"
    }
   },
   "outputs": [],
   "source": [
    "import tweepy"
   ]
  },
  {
   "cell_type": "code",
   "execution_count": 39,
   "metadata": {
    "ExecuteTime": {
     "end_time": "2021-09-01T11:46:47.769954Z",
     "start_time": "2021-09-01T11:46:47.756746Z"
    }
   },
   "outputs": [],
   "source": [
    "consumer_key = '##'\n",
    "consumer_secret = '##'\n",
    "access_token = '##'\n",
    "access_token_secret = '##'"
   ]
  },
  {
   "cell_type": "code",
   "execution_count": 40,
   "metadata": {
    "ExecuteTime": {
     "end_time": "2021-09-01T11:46:48.333363Z",
     "start_time": "2021-09-01T11:46:48.325212Z"
    }
   },
   "outputs": [],
   "source": [
    "auth = tweepy.OAuthHandler(consumer_key, consumer_secret)\n",
    "auth.set_access_token(access_token, access_token_secret)\n",
    "api = tweepy.API(auth)"
   ]
  },
  {
   "cell_type": "code",
   "execution_count": 41,
   "metadata": {
    "ExecuteTime": {
     "end_time": "2021-09-01T11:46:57.191793Z",
     "start_time": "2021-09-01T11:46:57.186206Z"
    }
   },
   "outputs": [],
   "source": [
    "tweets_list = tweepy.Cursor(api.search, q=\"#Taliban\",\n",
    "                            since='2021-08-24', \n",
    "                            until='2021-08-30',\n",
    "                            tweet_mode='extended',\n",
    "                            lang=\"en\").items(2000)"
   ]
  },
  {
   "cell_type": "code",
   "execution_count": null,
   "metadata": {},
   "outputs": [],
   "source": []
  },
  {
   "cell_type": "code",
   "execution_count": 42,
   "metadata": {
    "ExecuteTime": {
     "end_time": "2021-09-01T11:49:59.126669Z",
     "start_time": "2021-09-01T11:47:00.297827Z"
    }
   },
   "outputs": [],
   "source": [
    "output = []\n",
    "for tweet in tweets_list:\n",
    "    username=tweet.user.screen_name\n",
    "    favourite_count = tweet.favorite_count\n",
    "    retweet_count = tweet.retweet_count\n",
    "    source = tweet.source\n",
    "    line = {'id':tweet.id_str ,'username':username,'text' : tweet.full_text,'favourite_count':favourite_count, 'retweet_count' : retweet_count,\n",
    "            'source': source,'location':tweet.user.location}\n",
    "    output.append(line)"
   ]
  },
  {
   "cell_type": "code",
   "execution_count": 43,
   "metadata": {
    "ExecuteTime": {
     "end_time": "2021-09-01T11:50:03.789522Z",
     "start_time": "2021-09-01T11:50:03.627586Z"
    }
   },
   "outputs": [],
   "source": [
    "with open(\"Taliban-v3_2000tweets.json\", \"w\") as outfile:\n",
    "    json.dump(output, outfile,indent=3)"
   ]
  },
  {
   "cell_type": "code",
   "execution_count": 44,
   "metadata": {
    "ExecuteTime": {
     "end_time": "2021-09-01T11:50:04.587877Z",
     "start_time": "2021-09-01T11:50:04.580001Z"
    }
   },
   "outputs": [],
   "source": [
    "import pandas as pd\n",
    "df=pd.DataFrame(output)"
   ]
  },
  {
   "cell_type": "code",
   "execution_count": 45,
   "metadata": {
    "ExecuteTime": {
     "end_time": "2021-09-01T11:50:06.808184Z",
     "start_time": "2021-09-01T11:50:06.755860Z"
    }
   },
   "outputs": [
    {
     "data": {
      "text/html": [
       "<div>\n",
       "<style scoped>\n",
       "    .dataframe tbody tr th:only-of-type {\n",
       "        vertical-align: middle;\n",
       "    }\n",
       "\n",
       "    .dataframe tbody tr th {\n",
       "        vertical-align: top;\n",
       "    }\n",
       "\n",
       "    .dataframe thead th {\n",
       "        text-align: right;\n",
       "    }\n",
       "</style>\n",
       "<table border=\"1\" class=\"dataframe\">\n",
       "  <thead>\n",
       "    <tr style=\"text-align: right;\">\n",
       "      <th></th>\n",
       "      <th>id</th>\n",
       "      <th>username</th>\n",
       "      <th>text</th>\n",
       "      <th>favourite_count</th>\n",
       "      <th>retweet_count</th>\n",
       "      <th>source</th>\n",
       "      <th>location</th>\n",
       "    </tr>\n",
       "  </thead>\n",
       "  <tbody>\n",
       "    <tr>\n",
       "      <th>0</th>\n",
       "      <td>1432130934292295687</td>\n",
       "      <td>seidel_wolfgang</td>\n",
       "      <td>RT @theragex: 🇦🇫 Afghanistan Resistance\\n\\nPan...</td>\n",
       "      <td>0</td>\n",
       "      <td>17</td>\n",
       "      <td>Twitter Web App</td>\n",
       "      <td></td>\n",
       "    </tr>\n",
       "    <tr>\n",
       "      <th>1</th>\n",
       "      <td>1432130886711996419</td>\n",
       "      <td>CroxThicc</td>\n",
       "      <td>everone dante is swutchung accounts sperad the...</td>\n",
       "      <td>1</td>\n",
       "      <td>0</td>\n",
       "      <td>Twitter Web App</td>\n",
       "      <td>balls</td>\n",
       "    </tr>\n",
       "    <tr>\n",
       "      <th>2</th>\n",
       "      <td>1432130851844751361</td>\n",
       "      <td>unpluggedtweets</td>\n",
       "      <td>As Joe Biden and the nato prepare to leave Afg...</td>\n",
       "      <td>0</td>\n",
       "      <td>0</td>\n",
       "      <td>TweetDeck</td>\n",
       "      <td>Central Region, Singapore</td>\n",
       "    </tr>\n",
       "    <tr>\n",
       "      <th>3</th>\n",
       "      <td>1432130815257821184</td>\n",
       "      <td>newguy15421963</td>\n",
       "      <td>RT @abhijitmajumder: Interesting #Taliban cart...</td>\n",
       "      <td>0</td>\n",
       "      <td>909</td>\n",
       "      <td>Twitter for iPhone</td>\n",
       "      <td></td>\n",
       "    </tr>\n",
       "    <tr>\n",
       "      <th>4</th>\n",
       "      <td>1432130783330770946</td>\n",
       "      <td>Guardian_Elite</td>\n",
       "      <td>@CIA WTF??? Taliban Buys Hunter Biden Painting...</td>\n",
       "      <td>0</td>\n",
       "      <td>0</td>\n",
       "      <td>Twitter Web App</td>\n",
       "      <td>Southern California</td>\n",
       "    </tr>\n",
       "    <tr>\n",
       "      <th>...</th>\n",
       "      <td>...</td>\n",
       "      <td>...</td>\n",
       "      <td>...</td>\n",
       "      <td>...</td>\n",
       "      <td>...</td>\n",
       "      <td>...</td>\n",
       "      <td>...</td>\n",
       "    </tr>\n",
       "    <tr>\n",
       "      <th>1995</th>\n",
       "      <td>1432082255933890565</td>\n",
       "      <td>DacostaDelton</td>\n",
       "      <td>RT @IndiaToday: #IndiaTodayExclusive \\nWe have...</td>\n",
       "      <td>0</td>\n",
       "      <td>14</td>\n",
       "      <td>Twitter for Android</td>\n",
       "      <td></td>\n",
       "    </tr>\n",
       "    <tr>\n",
       "      <th>1996</th>\n",
       "      <td>1432082255745363968</td>\n",
       "      <td>RexGoesFourth</td>\n",
       "      <td>RT @KyleWOrton: There it is: #US forced Presid...</td>\n",
       "      <td>0</td>\n",
       "      <td>54</td>\n",
       "      <td>Twitter Web App</td>\n",
       "      <td>Parler (LunaticRex)</td>\n",
       "    </tr>\n",
       "    <tr>\n",
       "      <th>1997</th>\n",
       "      <td>1432082255455920132</td>\n",
       "      <td>TJThomp13</td>\n",
       "      <td>RT @JohnRLottJr: Secretary of State Antony Bli...</td>\n",
       "      <td>0</td>\n",
       "      <td>9</td>\n",
       "      <td>Twitter for iPhone</td>\n",
       "      <td>Saint Petersburg Fl</td>\n",
       "    </tr>\n",
       "    <tr>\n",
       "      <th>1998</th>\n",
       "      <td>1432082219279990788</td>\n",
       "      <td>dree_kelly</td>\n",
       "      <td>RT @Pakafghanurdu: The Taliban and Mahmud Ghaz...</td>\n",
       "      <td>0</td>\n",
       "      <td>1</td>\n",
       "      <td>Twitter Web App</td>\n",
       "      <td>Scotland uk</td>\n",
       "    </tr>\n",
       "    <tr>\n",
       "      <th>1999</th>\n",
       "      <td>1432082215857532928</td>\n",
       "      <td>PashtunPoet</td>\n",
       "      <td>This is what is happening currently in Waziris...</td>\n",
       "      <td>7</td>\n",
       "      <td>1</td>\n",
       "      <td>Twitter Web App</td>\n",
       "      <td>Makin, South Waziristan</td>\n",
       "    </tr>\n",
       "  </tbody>\n",
       "</table>\n",
       "<p>2000 rows × 7 columns</p>\n",
       "</div>"
      ],
      "text/plain": [
       "                       id         username  \\\n",
       "0     1432130934292295687  seidel_wolfgang   \n",
       "1     1432130886711996419        CroxThicc   \n",
       "2     1432130851844751361  unpluggedtweets   \n",
       "3     1432130815257821184   newguy15421963   \n",
       "4     1432130783330770946   Guardian_Elite   \n",
       "...                   ...              ...   \n",
       "1995  1432082255933890565    DacostaDelton   \n",
       "1996  1432082255745363968    RexGoesFourth   \n",
       "1997  1432082255455920132        TJThomp13   \n",
       "1998  1432082219279990788       dree_kelly   \n",
       "1999  1432082215857532928      PashtunPoet   \n",
       "\n",
       "                                                   text  favourite_count  \\\n",
       "0     RT @theragex: 🇦🇫 Afghanistan Resistance\\n\\nPan...                0   \n",
       "1     everone dante is swutchung accounts sperad the...                1   \n",
       "2     As Joe Biden and the nato prepare to leave Afg...                0   \n",
       "3     RT @abhijitmajumder: Interesting #Taliban cart...                0   \n",
       "4     @CIA WTF??? Taliban Buys Hunter Biden Painting...                0   \n",
       "...                                                 ...              ...   \n",
       "1995  RT @IndiaToday: #IndiaTodayExclusive \\nWe have...                0   \n",
       "1996  RT @KyleWOrton: There it is: #US forced Presid...                0   \n",
       "1997  RT @JohnRLottJr: Secretary of State Antony Bli...                0   \n",
       "1998  RT @Pakafghanurdu: The Taliban and Mahmud Ghaz...                0   \n",
       "1999  This is what is happening currently in Waziris...                7   \n",
       "\n",
       "      retweet_count               source                   location  \n",
       "0                17      Twitter Web App                             \n",
       "1                 0      Twitter Web App                      balls  \n",
       "2                 0            TweetDeck  Central Region, Singapore  \n",
       "3               909   Twitter for iPhone                             \n",
       "4                 0      Twitter Web App        Southern California  \n",
       "...             ...                  ...                        ...  \n",
       "1995             14  Twitter for Android                             \n",
       "1996             54      Twitter Web App        Parler (LunaticRex)  \n",
       "1997              9   Twitter for iPhone        Saint Petersburg Fl  \n",
       "1998              1      Twitter Web App                Scotland uk  \n",
       "1999              1      Twitter Web App    Makin, South Waziristan  \n",
       "\n",
       "[2000 rows x 7 columns]"
      ]
     },
     "execution_count": 45,
     "metadata": {},
     "output_type": "execute_result"
    }
   ],
   "source": [
    "df"
   ]
  },
  {
   "cell_type": "code",
   "execution_count": 46,
   "metadata": {
    "ExecuteTime": {
     "end_time": "2021-09-01T11:50:09.418888Z",
     "start_time": "2021-09-01T11:50:09.399224Z"
    }
   },
   "outputs": [
    {
     "data": {
      "text/plain": [
       "0"
      ]
     },
     "execution_count": 46,
     "metadata": {},
     "output_type": "execute_result"
    }
   ],
   "source": [
    "df[\"location\"].isnull().sum()"
   ]
  },
  {
   "cell_type": "code",
   "execution_count": 47,
   "metadata": {
    "ExecuteTime": {
     "end_time": "2021-09-01T11:50:11.457231Z",
     "start_time": "2021-09-01T11:50:11.446053Z"
    }
   },
   "outputs": [],
   "source": [
    "def cleanText(text):\n",
    "    text=re.sub(r'@[A-Za-z0-9]+','',text)\n",
    "    text=re.sub(r'#','',text)\n",
    "    text=re.sub(r'RT[\\s]+','',text)\n",
    "    text=re.sub(r'https?:\\/\\/\\S+','',text)\n",
    "    \n",
    "    return text"
   ]
  },
  {
   "cell_type": "code",
   "execution_count": 48,
   "metadata": {
    "ExecuteTime": {
     "end_time": "2021-09-01T11:50:12.319079Z",
     "start_time": "2021-09-01T11:50:12.261743Z"
    }
   },
   "outputs": [],
   "source": [
    "df[\"text\"]=df[\"text\"].apply(cleanText)"
   ]
  },
  {
   "cell_type": "code",
   "execution_count": 49,
   "metadata": {
    "ExecuteTime": {
     "end_time": "2021-09-01T11:50:13.173845Z",
     "start_time": "2021-09-01T11:50:13.139640Z"
    }
   },
   "outputs": [
    {
     "data": {
      "text/html": [
       "<div>\n",
       "<style scoped>\n",
       "    .dataframe tbody tr th:only-of-type {\n",
       "        vertical-align: middle;\n",
       "    }\n",
       "\n",
       "    .dataframe tbody tr th {\n",
       "        vertical-align: top;\n",
       "    }\n",
       "\n",
       "    .dataframe thead th {\n",
       "        text-align: right;\n",
       "    }\n",
       "</style>\n",
       "<table border=\"1\" class=\"dataframe\">\n",
       "  <thead>\n",
       "    <tr style=\"text-align: right;\">\n",
       "      <th></th>\n",
       "      <th>id</th>\n",
       "      <th>username</th>\n",
       "      <th>text</th>\n",
       "      <th>favourite_count</th>\n",
       "      <th>retweet_count</th>\n",
       "      <th>source</th>\n",
       "      <th>location</th>\n",
       "    </tr>\n",
       "  </thead>\n",
       "  <tbody>\n",
       "    <tr>\n",
       "      <th>0</th>\n",
       "      <td>1432130934292295687</td>\n",
       "      <td>seidel_wolfgang</td>\n",
       "      <td>: 🇦🇫 Afghanistan Resistance\\n\\nPanjshir Defend...</td>\n",
       "      <td>0</td>\n",
       "      <td>17</td>\n",
       "      <td>Twitter Web App</td>\n",
       "      <td></td>\n",
       "    </tr>\n",
       "    <tr>\n",
       "      <th>1</th>\n",
       "      <td>1432130886711996419</td>\n",
       "      <td>CroxThicc</td>\n",
       "      <td>everone dante is swutchung accounts sperad the...</td>\n",
       "      <td>1</td>\n",
       "      <td>0</td>\n",
       "      <td>Twitter Web App</td>\n",
       "      <td>balls</td>\n",
       "    </tr>\n",
       "    <tr>\n",
       "      <th>2</th>\n",
       "      <td>1432130851844751361</td>\n",
       "      <td>unpluggedtweets</td>\n",
       "      <td>As Joe Biden and the nato prepare to leave Afg...</td>\n",
       "      <td>0</td>\n",
       "      <td>0</td>\n",
       "      <td>TweetDeck</td>\n",
       "      <td>Central Region, Singapore</td>\n",
       "    </tr>\n",
       "    <tr>\n",
       "      <th>3</th>\n",
       "      <td>1432130815257821184</td>\n",
       "      <td>newguy15421963</td>\n",
       "      <td>: Interesting Taliban cartoons.</td>\n",
       "      <td>0</td>\n",
       "      <td>909</td>\n",
       "      <td>Twitter for iPhone</td>\n",
       "      <td></td>\n",
       "    </tr>\n",
       "    <tr>\n",
       "      <th>4</th>\n",
       "      <td>1432130783330770946</td>\n",
       "      <td>Guardian_Elite</td>\n",
       "      <td>WTF??? Taliban Buys Hunter Biden Painting For...</td>\n",
       "      <td>0</td>\n",
       "      <td>0</td>\n",
       "      <td>Twitter Web App</td>\n",
       "      <td>Southern California</td>\n",
       "    </tr>\n",
       "    <tr>\n",
       "      <th>...</th>\n",
       "      <td>...</td>\n",
       "      <td>...</td>\n",
       "      <td>...</td>\n",
       "      <td>...</td>\n",
       "      <td>...</td>\n",
       "      <td>...</td>\n",
       "      <td>...</td>\n",
       "    </tr>\n",
       "    <tr>\n",
       "      <th>1995</th>\n",
       "      <td>1432082255933890565</td>\n",
       "      <td>DacostaDelton</td>\n",
       "      <td>: IndiaTodayExclusive \\nWe have no association...</td>\n",
       "      <td>0</td>\n",
       "      <td>14</td>\n",
       "      <td>Twitter for Android</td>\n",
       "      <td></td>\n",
       "    </tr>\n",
       "    <tr>\n",
       "      <th>1996</th>\n",
       "      <td>1432082255745363968</td>\n",
       "      <td>RexGoesFourth</td>\n",
       "      <td>: There it is: US forced President Ghani from ...</td>\n",
       "      <td>0</td>\n",
       "      <td>54</td>\n",
       "      <td>Twitter Web App</td>\n",
       "      <td>Parler (LunaticRex)</td>\n",
       "    </tr>\n",
       "    <tr>\n",
       "      <th>1997</th>\n",
       "      <td>1432082255455920132</td>\n",
       "      <td>TJThomp13</td>\n",
       "      <td>: Secretary of State Antony Blinken was vacati...</td>\n",
       "      <td>0</td>\n",
       "      <td>9</td>\n",
       "      <td>Twitter for iPhone</td>\n",
       "      <td>Saint Petersburg Fl</td>\n",
       "    </tr>\n",
       "    <tr>\n",
       "      <th>1998</th>\n",
       "      <td>1432082219279990788</td>\n",
       "      <td>dree_kelly</td>\n",
       "      <td>: The Taliban and Mahmud Ghaznavi are being di...</td>\n",
       "      <td>0</td>\n",
       "      <td>1</td>\n",
       "      <td>Twitter Web App</td>\n",
       "      <td>Scotland uk</td>\n",
       "    </tr>\n",
       "    <tr>\n",
       "      <th>1999</th>\n",
       "      <td>1432082215857532928</td>\n",
       "      <td>PashtunPoet</td>\n",
       "      <td>This is what is happening currently in Waziris...</td>\n",
       "      <td>7</td>\n",
       "      <td>1</td>\n",
       "      <td>Twitter Web App</td>\n",
       "      <td>Makin, South Waziristan</td>\n",
       "    </tr>\n",
       "  </tbody>\n",
       "</table>\n",
       "<p>2000 rows × 7 columns</p>\n",
       "</div>"
      ],
      "text/plain": [
       "                       id         username  \\\n",
       "0     1432130934292295687  seidel_wolfgang   \n",
       "1     1432130886711996419        CroxThicc   \n",
       "2     1432130851844751361  unpluggedtweets   \n",
       "3     1432130815257821184   newguy15421963   \n",
       "4     1432130783330770946   Guardian_Elite   \n",
       "...                   ...              ...   \n",
       "1995  1432082255933890565    DacostaDelton   \n",
       "1996  1432082255745363968    RexGoesFourth   \n",
       "1997  1432082255455920132        TJThomp13   \n",
       "1998  1432082219279990788       dree_kelly   \n",
       "1999  1432082215857532928      PashtunPoet   \n",
       "\n",
       "                                                   text  favourite_count  \\\n",
       "0     : 🇦🇫 Afghanistan Resistance\\n\\nPanjshir Defend...                0   \n",
       "1     everone dante is swutchung accounts sperad the...                1   \n",
       "2     As Joe Biden and the nato prepare to leave Afg...                0   \n",
       "3                      : Interesting Taliban cartoons.                 0   \n",
       "4      WTF??? Taliban Buys Hunter Biden Painting For...                0   \n",
       "...                                                 ...              ...   \n",
       "1995  : IndiaTodayExclusive \\nWe have no association...                0   \n",
       "1996  : There it is: US forced President Ghani from ...                0   \n",
       "1997  : Secretary of State Antony Blinken was vacati...                0   \n",
       "1998  : The Taliban and Mahmud Ghaznavi are being di...                0   \n",
       "1999  This is what is happening currently in Waziris...                7   \n",
       "\n",
       "      retweet_count               source                   location  \n",
       "0                17      Twitter Web App                             \n",
       "1                 0      Twitter Web App                      balls  \n",
       "2                 0            TweetDeck  Central Region, Singapore  \n",
       "3               909   Twitter for iPhone                             \n",
       "4                 0      Twitter Web App        Southern California  \n",
       "...             ...                  ...                        ...  \n",
       "1995             14  Twitter for Android                             \n",
       "1996             54      Twitter Web App        Parler (LunaticRex)  \n",
       "1997              9   Twitter for iPhone        Saint Petersburg Fl  \n",
       "1998              1      Twitter Web App                Scotland uk  \n",
       "1999              1      Twitter Web App    Makin, South Waziristan  \n",
       "\n",
       "[2000 rows x 7 columns]"
      ]
     },
     "execution_count": 49,
     "metadata": {},
     "output_type": "execute_result"
    }
   ],
   "source": [
    "df"
   ]
  },
  {
   "cell_type": "code",
   "execution_count": 50,
   "metadata": {
    "ExecuteTime": {
     "end_time": "2021-09-01T11:50:16.544522Z",
     "start_time": "2021-09-01T11:50:16.531544Z"
    }
   },
   "outputs": [],
   "source": [
    "def getSubjectivity(text):\n",
    "    return TextBlob(text).sentiment.subjectivity"
   ]
  },
  {
   "cell_type": "code",
   "execution_count": 51,
   "metadata": {
    "ExecuteTime": {
     "end_time": "2021-09-01T11:50:16.944582Z",
     "start_time": "2021-09-01T11:50:16.922655Z"
    }
   },
   "outputs": [],
   "source": [
    "def getPolarity(text):\n",
    "    return TextBlob(text).sentiment.polarity"
   ]
  },
  {
   "cell_type": "code",
   "execution_count": 2,
   "metadata": {
    "ExecuteTime": {
     "end_time": "2021-09-01T11:18:51.874114Z",
     "start_time": "2021-09-01T11:18:33.210914Z"
    }
   },
   "outputs": [
    {
     "name": "stdout",
     "output_type": "stream",
     "text": [
      "Collecting textblobNote: you may need to restart the kernel to use updated packages.\n",
      "\n",
      "  Downloading textblob-0.15.3-py2.py3-none-any.whl (636 kB)\n",
      "Requirement already satisfied, skipping upgrade: nltk>=3.1 in c:\\users\\msubh\\anaconda3\\lib\\site-packages (from textblob) (3.5)\n",
      "Requirement already satisfied, skipping upgrade: joblib in c:\\users\\msubh\\anaconda3\\lib\\site-packages (from nltk>=3.1->textblob) (0.17.0)\n",
      "Requirement already satisfied, skipping upgrade: tqdm in c:\\users\\msubh\\anaconda3\\lib\\site-packages (from nltk>=3.1->textblob) (4.50.2)\n",
      "Requirement already satisfied, skipping upgrade: click in c:\\users\\msubh\\anaconda3\\lib\\site-packages (from nltk>=3.1->textblob) (7.1.2)\n",
      "Requirement already satisfied, skipping upgrade: regex in c:\\users\\msubh\\anaconda3\\lib\\site-packages (from nltk>=3.1->textblob) (2020.10.15)\n",
      "Installing collected packages: textblob\n",
      "Successfully installed textblob-0.15.3\n"
     ]
    }
   ],
   "source": [
    "pip install -U textblob"
   ]
  },
  {
   "cell_type": "code",
   "execution_count": 52,
   "metadata": {
    "ExecuteTime": {
     "end_time": "2021-09-01T11:50:24.494423Z",
     "start_time": "2021-09-01T11:50:21.450265Z"
    }
   },
   "outputs": [],
   "source": [
    "df[\"Subjectivity\"]=df[\"text\"].apply(getSubjectivity)\n",
    "df[\"Polarity\"]=df[\"text\"].apply(getPolarity)"
   ]
  },
  {
   "cell_type": "code",
   "execution_count": 3,
   "metadata": {
    "ExecuteTime": {
     "end_time": "2021-09-01T11:20:24.694670Z",
     "start_time": "2021-09-01T11:19:59.770371Z"
    }
   },
   "outputs": [],
   "source": [
    "from textblob import TextBlob"
   ]
  },
  {
   "cell_type": "code",
   "execution_count": 25,
   "metadata": {
    "ExecuteTime": {
     "end_time": "2021-09-01T11:31:04.374044Z",
     "start_time": "2021-09-01T11:31:04.353720Z"
    }
   },
   "outputs": [],
   "source": [
    "from wordcloud import WordCloud"
   ]
  },
  {
   "cell_type": "code",
   "execution_count": 27,
   "metadata": {
    "ExecuteTime": {
     "end_time": "2021-09-01T11:33:14.583755Z",
     "start_time": "2021-09-01T11:33:14.572940Z"
    }
   },
   "outputs": [],
   "source": [
    "import matplotlib.pyplot as plt"
   ]
  },
  {
   "cell_type": "code",
   "execution_count": 16,
   "metadata": {
    "ExecuteTime": {
     "end_time": "2021-09-01T11:21:44.507545Z",
     "start_time": "2021-09-01T11:21:44.488755Z"
    }
   },
   "outputs": [],
   "source": [
    "import re"
   ]
  },
  {
   "cell_type": "code",
   "execution_count": 53,
   "metadata": {
    "ExecuteTime": {
     "end_time": "2021-09-01T11:50:30.946470Z",
     "start_time": "2021-09-01T11:50:30.914259Z"
    }
   },
   "outputs": [
    {
     "data": {
      "text/html": [
       "<div>\n",
       "<style scoped>\n",
       "    .dataframe tbody tr th:only-of-type {\n",
       "        vertical-align: middle;\n",
       "    }\n",
       "\n",
       "    .dataframe tbody tr th {\n",
       "        vertical-align: top;\n",
       "    }\n",
       "\n",
       "    .dataframe thead th {\n",
       "        text-align: right;\n",
       "    }\n",
       "</style>\n",
       "<table border=\"1\" class=\"dataframe\">\n",
       "  <thead>\n",
       "    <tr style=\"text-align: right;\">\n",
       "      <th></th>\n",
       "      <th>id</th>\n",
       "      <th>username</th>\n",
       "      <th>text</th>\n",
       "      <th>favourite_count</th>\n",
       "      <th>retweet_count</th>\n",
       "      <th>source</th>\n",
       "      <th>location</th>\n",
       "      <th>Subjectivity</th>\n",
       "      <th>Polarity</th>\n",
       "    </tr>\n",
       "  </thead>\n",
       "  <tbody>\n",
       "    <tr>\n",
       "      <th>0</th>\n",
       "      <td>1432130934292295687</td>\n",
       "      <td>seidel_wolfgang</td>\n",
       "      <td>: 🇦🇫 Afghanistan Resistance\\n\\nPanjshir Defend...</td>\n",
       "      <td>0</td>\n",
       "      <td>17</td>\n",
       "      <td>Twitter Web App</td>\n",
       "      <td></td>\n",
       "      <td>0.0000</td>\n",
       "      <td>0.0</td>\n",
       "    </tr>\n",
       "    <tr>\n",
       "      <th>1</th>\n",
       "      <td>1432130886711996419</td>\n",
       "      <td>CroxThicc</td>\n",
       "      <td>everone dante is swutchung accounts sperad the...</td>\n",
       "      <td>1</td>\n",
       "      <td>0</td>\n",
       "      <td>Twitter Web App</td>\n",
       "      <td>balls</td>\n",
       "      <td>0.0000</td>\n",
       "      <td>0.0</td>\n",
       "    </tr>\n",
       "    <tr>\n",
       "      <th>2</th>\n",
       "      <td>1432130851844751361</td>\n",
       "      <td>unpluggedtweets</td>\n",
       "      <td>As Joe Biden and the nato prepare to leave Afg...</td>\n",
       "      <td>0</td>\n",
       "      <td>0</td>\n",
       "      <td>TweetDeck</td>\n",
       "      <td>Central Region, Singapore</td>\n",
       "      <td>0.0625</td>\n",
       "      <td>0.0</td>\n",
       "    </tr>\n",
       "    <tr>\n",
       "      <th>3</th>\n",
       "      <td>1432130815257821184</td>\n",
       "      <td>newguy15421963</td>\n",
       "      <td>: Interesting Taliban cartoons.</td>\n",
       "      <td>0</td>\n",
       "      <td>909</td>\n",
       "      <td>Twitter for iPhone</td>\n",
       "      <td></td>\n",
       "      <td>0.5000</td>\n",
       "      <td>0.5</td>\n",
       "    </tr>\n",
       "    <tr>\n",
       "      <th>4</th>\n",
       "      <td>1432130783330770946</td>\n",
       "      <td>Guardian_Elite</td>\n",
       "      <td>WTF??? Taliban Buys Hunter Biden Painting For...</td>\n",
       "      <td>0</td>\n",
       "      <td>0</td>\n",
       "      <td>Twitter Web App</td>\n",
       "      <td>Southern California</td>\n",
       "      <td>1.0000</td>\n",
       "      <td>-0.5</td>\n",
       "    </tr>\n",
       "    <tr>\n",
       "      <th>...</th>\n",
       "      <td>...</td>\n",
       "      <td>...</td>\n",
       "      <td>...</td>\n",
       "      <td>...</td>\n",
       "      <td>...</td>\n",
       "      <td>...</td>\n",
       "      <td>...</td>\n",
       "      <td>...</td>\n",
       "      <td>...</td>\n",
       "    </tr>\n",
       "    <tr>\n",
       "      <th>1995</th>\n",
       "      <td>1432082255933890565</td>\n",
       "      <td>DacostaDelton</td>\n",
       "      <td>: IndiaTodayExclusive \\nWe have no association...</td>\n",
       "      <td>0</td>\n",
       "      <td>14</td>\n",
       "      <td>Twitter for Android</td>\n",
       "      <td></td>\n",
       "      <td>0.0000</td>\n",
       "      <td>0.0</td>\n",
       "    </tr>\n",
       "    <tr>\n",
       "      <th>1996</th>\n",
       "      <td>1432082255745363968</td>\n",
       "      <td>RexGoesFourth</td>\n",
       "      <td>: There it is: US forced President Ghani from ...</td>\n",
       "      <td>0</td>\n",
       "      <td>54</td>\n",
       "      <td>Twitter Web App</td>\n",
       "      <td>Parler (LunaticRex)</td>\n",
       "      <td>0.2000</td>\n",
       "      <td>-0.3</td>\n",
       "    </tr>\n",
       "    <tr>\n",
       "      <th>1997</th>\n",
       "      <td>1432082255455920132</td>\n",
       "      <td>TJThomp13</td>\n",
       "      <td>: Secretary of State Antony Blinken was vacati...</td>\n",
       "      <td>0</td>\n",
       "      <td>9</td>\n",
       "      <td>Twitter for iPhone</td>\n",
       "      <td>Saint Petersburg Fl</td>\n",
       "      <td>0.0000</td>\n",
       "      <td>0.0</td>\n",
       "    </tr>\n",
       "    <tr>\n",
       "      <th>1998</th>\n",
       "      <td>1432082219279990788</td>\n",
       "      <td>dree_kelly</td>\n",
       "      <td>: The Taliban and Mahmud Ghaznavi are being di...</td>\n",
       "      <td>0</td>\n",
       "      <td>1</td>\n",
       "      <td>Twitter Web App</td>\n",
       "      <td>Scotland uk</td>\n",
       "      <td>0.0000</td>\n",
       "      <td>0.0</td>\n",
       "    </tr>\n",
       "    <tr>\n",
       "      <th>1999</th>\n",
       "      <td>1432082215857532928</td>\n",
       "      <td>PashtunPoet</td>\n",
       "      <td>This is what is happening currently in Waziris...</td>\n",
       "      <td>7</td>\n",
       "      <td>1</td>\n",
       "      <td>Twitter Web App</td>\n",
       "      <td>Makin, South Waziristan</td>\n",
       "      <td>0.2000</td>\n",
       "      <td>0.0</td>\n",
       "    </tr>\n",
       "  </tbody>\n",
       "</table>\n",
       "<p>2000 rows × 9 columns</p>\n",
       "</div>"
      ],
      "text/plain": [
       "                       id         username  \\\n",
       "0     1432130934292295687  seidel_wolfgang   \n",
       "1     1432130886711996419        CroxThicc   \n",
       "2     1432130851844751361  unpluggedtweets   \n",
       "3     1432130815257821184   newguy15421963   \n",
       "4     1432130783330770946   Guardian_Elite   \n",
       "...                   ...              ...   \n",
       "1995  1432082255933890565    DacostaDelton   \n",
       "1996  1432082255745363968    RexGoesFourth   \n",
       "1997  1432082255455920132        TJThomp13   \n",
       "1998  1432082219279990788       dree_kelly   \n",
       "1999  1432082215857532928      PashtunPoet   \n",
       "\n",
       "                                                   text  favourite_count  \\\n",
       "0     : 🇦🇫 Afghanistan Resistance\\n\\nPanjshir Defend...                0   \n",
       "1     everone dante is swutchung accounts sperad the...                1   \n",
       "2     As Joe Biden and the nato prepare to leave Afg...                0   \n",
       "3                      : Interesting Taliban cartoons.                 0   \n",
       "4      WTF??? Taliban Buys Hunter Biden Painting For...                0   \n",
       "...                                                 ...              ...   \n",
       "1995  : IndiaTodayExclusive \\nWe have no association...                0   \n",
       "1996  : There it is: US forced President Ghani from ...                0   \n",
       "1997  : Secretary of State Antony Blinken was vacati...                0   \n",
       "1998  : The Taliban and Mahmud Ghaznavi are being di...                0   \n",
       "1999  This is what is happening currently in Waziris...                7   \n",
       "\n",
       "      retweet_count               source                   location  \\\n",
       "0                17      Twitter Web App                              \n",
       "1                 0      Twitter Web App                      balls   \n",
       "2                 0            TweetDeck  Central Region, Singapore   \n",
       "3               909   Twitter for iPhone                              \n",
       "4                 0      Twitter Web App        Southern California   \n",
       "...             ...                  ...                        ...   \n",
       "1995             14  Twitter for Android                              \n",
       "1996             54      Twitter Web App        Parler (LunaticRex)   \n",
       "1997              9   Twitter for iPhone        Saint Petersburg Fl   \n",
       "1998              1      Twitter Web App                Scotland uk   \n",
       "1999              1      Twitter Web App    Makin, South Waziristan   \n",
       "\n",
       "      Subjectivity  Polarity  \n",
       "0           0.0000       0.0  \n",
       "1           0.0000       0.0  \n",
       "2           0.0625       0.0  \n",
       "3           0.5000       0.5  \n",
       "4           1.0000      -0.5  \n",
       "...            ...       ...  \n",
       "1995        0.0000       0.0  \n",
       "1996        0.2000      -0.3  \n",
       "1997        0.0000       0.0  \n",
       "1998        0.0000       0.0  \n",
       "1999        0.2000       0.0  \n",
       "\n",
       "[2000 rows x 9 columns]"
      ]
     },
     "execution_count": 53,
     "metadata": {},
     "output_type": "execute_result"
    }
   ],
   "source": [
    "df"
   ]
  },
  {
   "cell_type": "code",
   "execution_count": 54,
   "metadata": {
    "ExecuteTime": {
     "end_time": "2021-09-01T11:50:36.476753Z",
     "start_time": "2021-09-01T11:50:36.468225Z"
    }
   },
   "outputs": [],
   "source": [
    "all_words=''.join([twts for twts in df[\"text\"]])"
   ]
  },
  {
   "cell_type": "code",
   "execution_count": 55,
   "metadata": {
    "ExecuteTime": {
     "end_time": "2021-09-01T11:50:38.565209Z",
     "start_time": "2021-09-01T11:50:37.226386Z"
    }
   },
   "outputs": [],
   "source": [
    "wordcloud=WordCloud(width=500,height=300,random_state=21,max_font_size=119).generate(all_words)"
   ]
  },
  {
   "cell_type": "code",
   "execution_count": 56,
   "metadata": {
    "ExecuteTime": {
     "end_time": "2021-09-01T11:50:40.327353Z",
     "start_time": "2021-09-01T11:50:39.495782Z"
    }
   },
   "outputs": [
    {
     "data": {
      "image/png": "[encoded data removed]",
      "text/plain": [
       "<Figure size 432x288 with 1 Axes>"
      ]
     },
     "metadata": {
      "needs_background": "light"
     },
     "output_type": "display_data"
    }
   ],
   "source": [
    "plt.imshow(wordcloud,interpolation=\"bilinear\")\n",
    "plt.axis(\"off\")\n",
    "plt.show()"
   ]
  },
  {
   "cell_type": "code",
   "execution_count": 57,
   "metadata": {
    "ExecuteTime": {
     "end_time": "2021-09-01T11:50:51.274772Z",
     "start_time": "2021-09-01T11:50:51.268816Z"
    }
   },
   "outputs": [],
   "source": [
    "def getAnalysis(score):\n",
    "    if score < 0:\n",
    "        return \"Negative\"\n",
    "    elif score==0:\n",
    "        return \"Neutral\"\n",
    "    else:\n",
    "        return \"Positive\""
   ]
  },
  {
   "cell_type": "code",
   "execution_count": 58,
   "metadata": {
    "ExecuteTime": {
     "end_time": "2021-09-01T11:50:52.852235Z",
     "start_time": "2021-09-01T11:50:52.841801Z"
    }
   },
   "outputs": [],
   "source": [
    "df[\"Analysis\"]=df[\"Polarity\"].apply(getAnalysis)"
   ]
  },
  {
   "cell_type": "code",
   "execution_count": 59,
   "metadata": {
    "ExecuteTime": {
     "end_time": "2021-09-01T11:50:54.228067Z",
     "start_time": "2021-09-01T11:50:54.204987Z"
    }
   },
   "outputs": [
    {
     "data": {
      "text/html": [
       "<div>\n",
       "<style scoped>\n",
       "    .dataframe tbody tr th:only-of-type {\n",
       "        vertical-align: middle;\n",
       "    }\n",
       "\n",
       "    .dataframe tbody tr th {\n",
       "        vertical-align: top;\n",
       "    }\n",
       "\n",
       "    .dataframe thead th {\n",
       "        text-align: right;\n",
       "    }\n",
       "</style>\n",
       "<table border=\"1\" class=\"dataframe\">\n",
       "  <thead>\n",
       "    <tr style=\"text-align: right;\">\n",
       "      <th></th>\n",
       "      <th>id</th>\n",
       "      <th>username</th>\n",
       "      <th>text</th>\n",
       "      <th>favourite_count</th>\n",
       "      <th>retweet_count</th>\n",
       "      <th>source</th>\n",
       "      <th>location</th>\n",
       "      <th>Subjectivity</th>\n",
       "      <th>Polarity</th>\n",
       "      <th>Analysis</th>\n",
       "    </tr>\n",
       "  </thead>\n",
       "  <tbody>\n",
       "    <tr>\n",
       "      <th>0</th>\n",
       "      <td>1432130934292295687</td>\n",
       "      <td>seidel_wolfgang</td>\n",
       "      <td>: 🇦🇫 Afghanistan Resistance\\n\\nPanjshir Defend...</td>\n",
       "      <td>0</td>\n",
       "      <td>17</td>\n",
       "      <td>Twitter Web App</td>\n",
       "      <td></td>\n",
       "      <td>0.0000</td>\n",
       "      <td>0.0</td>\n",
       "      <td>Neutral</td>\n",
       "    </tr>\n",
       "    <tr>\n",
       "      <th>1</th>\n",
       "      <td>1432130886711996419</td>\n",
       "      <td>CroxThicc</td>\n",
       "      <td>everone dante is swutchung accounts sperad the...</td>\n",
       "      <td>1</td>\n",
       "      <td>0</td>\n",
       "      <td>Twitter Web App</td>\n",
       "      <td>balls</td>\n",
       "      <td>0.0000</td>\n",
       "      <td>0.0</td>\n",
       "      <td>Neutral</td>\n",
       "    </tr>\n",
       "    <tr>\n",
       "      <th>2</th>\n",
       "      <td>1432130851844751361</td>\n",
       "      <td>unpluggedtweets</td>\n",
       "      <td>As Joe Biden and the nato prepare to leave Afg...</td>\n",
       "      <td>0</td>\n",
       "      <td>0</td>\n",
       "      <td>TweetDeck</td>\n",
       "      <td>Central Region, Singapore</td>\n",
       "      <td>0.0625</td>\n",
       "      <td>0.0</td>\n",
       "      <td>Neutral</td>\n",
       "    </tr>\n",
       "    <tr>\n",
       "      <th>3</th>\n",
       "      <td>1432130815257821184</td>\n",
       "      <td>newguy15421963</td>\n",
       "      <td>: Interesting Taliban cartoons.</td>\n",
       "      <td>0</td>\n",
       "      <td>909</td>\n",
       "      <td>Twitter for iPhone</td>\n",
       "      <td></td>\n",
       "      <td>0.5000</td>\n",
       "      <td>0.5</td>\n",
       "      <td>Positive</td>\n",
       "    </tr>\n",
       "    <tr>\n",
       "      <th>4</th>\n",
       "      <td>1432130783330770946</td>\n",
       "      <td>Guardian_Elite</td>\n",
       "      <td>WTF??? Taliban Buys Hunter Biden Painting For...</td>\n",
       "      <td>0</td>\n",
       "      <td>0</td>\n",
       "      <td>Twitter Web App</td>\n",
       "      <td>Southern California</td>\n",
       "      <td>1.0000</td>\n",
       "      <td>-0.5</td>\n",
       "      <td>Negative</td>\n",
       "    </tr>\n",
       "    <tr>\n",
       "      <th>...</th>\n",
       "      <td>...</td>\n",
       "      <td>...</td>\n",
       "      <td>...</td>\n",
       "      <td>...</td>\n",
       "      <td>...</td>\n",
       "      <td>...</td>\n",
       "      <td>...</td>\n",
       "      <td>...</td>\n",
       "      <td>...</td>\n",
       "      <td>...</td>\n",
       "    </tr>\n",
       "    <tr>\n",
       "      <th>1995</th>\n",
       "      <td>1432082255933890565</td>\n",
       "      <td>DacostaDelton</td>\n",
       "      <td>: IndiaTodayExclusive \\nWe have no association...</td>\n",
       "      <td>0</td>\n",
       "      <td>14</td>\n",
       "      <td>Twitter for Android</td>\n",
       "      <td></td>\n",
       "      <td>0.0000</td>\n",
       "      <td>0.0</td>\n",
       "      <td>Neutral</td>\n",
       "    </tr>\n",
       "    <tr>\n",
       "      <th>1996</th>\n",
       "      <td>1432082255745363968</td>\n",
       "      <td>RexGoesFourth</td>\n",
       "      <td>: There it is: US forced President Ghani from ...</td>\n",
       "      <td>0</td>\n",
       "      <td>54</td>\n",
       "      <td>Twitter Web App</td>\n",
       "      <td>Parler (LunaticRex)</td>\n",
       "      <td>0.2000</td>\n",
       "      <td>-0.3</td>\n",
       "      <td>Negative</td>\n",
       "    </tr>\n",
       "    <tr>\n",
       "      <th>1997</th>\n",
       "      <td>1432082255455920132</td>\n",
       "      <td>TJThomp13</td>\n",
       "      <td>: Secretary of State Antony Blinken was vacati...</td>\n",
       "      <td>0</td>\n",
       "      <td>9</td>\n",
       "      <td>Twitter for iPhone</td>\n",
       "      <td>Saint Petersburg Fl</td>\n",
       "      <td>0.0000</td>\n",
       "      <td>0.0</td>\n",
       "      <td>Neutral</td>\n",
       "    </tr>\n",
       "    <tr>\n",
       "      <th>1998</th>\n",
       "      <td>1432082219279990788</td>\n",
       "      <td>dree_kelly</td>\n",
       "      <td>: The Taliban and Mahmud Ghaznavi are being di...</td>\n",
       "      <td>0</td>\n",
       "      <td>1</td>\n",
       "      <td>Twitter Web App</td>\n",
       "      <td>Scotland uk</td>\n",
       "      <td>0.0000</td>\n",
       "      <td>0.0</td>\n",
       "      <td>Neutral</td>\n",
       "    </tr>\n",
       "    <tr>\n",
       "      <th>1999</th>\n",
       "      <td>1432082215857532928</td>\n",
       "      <td>PashtunPoet</td>\n",
       "      <td>This is what is happening currently in Waziris...</td>\n",
       "      <td>7</td>\n",
       "      <td>1</td>\n",
       "      <td>Twitter Web App</td>\n",
       "      <td>Makin, South Waziristan</td>\n",
       "      <td>0.2000</td>\n",
       "      <td>0.0</td>\n",
       "      <td>Neutral</td>\n",
       "    </tr>\n",
       "  </tbody>\n",
       "</table>\n",
       "<p>2000 rows × 10 columns</p>\n",
       "</div>"
      ],
      "text/plain": [
       "                       id         username  \\\n",
       "0     1432130934292295687  seidel_wolfgang   \n",
       "1     1432130886711996419        CroxThicc   \n",
       "2     1432130851844751361  unpluggedtweets   \n",
       "3     1432130815257821184   newguy15421963   \n",
       "4     1432130783330770946   Guardian_Elite   \n",
       "...                   ...              ...   \n",
       "1995  1432082255933890565    DacostaDelton   \n",
       "1996  1432082255745363968    RexGoesFourth   \n",
       "1997  1432082255455920132        TJThomp13   \n",
       "1998  1432082219279990788       dree_kelly   \n",
       "1999  1432082215857532928      PashtunPoet   \n",
       "\n",
       "                                                   text  favourite_count  \\\n",
       "0     : 🇦🇫 Afghanistan Resistance\\n\\nPanjshir Defend...                0   \n",
       "1     everone dante is swutchung accounts sperad the...                1   \n",
       "2     As Joe Biden and the nato prepare to leave Afg...                0   \n",
       "3                      : Interesting Taliban cartoons.                 0   \n",
       "4      WTF??? Taliban Buys Hunter Biden Painting For...                0   \n",
       "...                                                 ...              ...   \n",
       "1995  : IndiaTodayExclusive \\nWe have no association...                0   \n",
       "1996  : There it is: US forced President Ghani from ...                0   \n",
       "1997  : Secretary of State Antony Blinken was vacati...                0   \n",
       "1998  : The Taliban and Mahmud Ghaznavi are being di...                0   \n",
       "1999  This is what is happening currently in Waziris...                7   \n",
       "\n",
       "      retweet_count               source                   location  \\\n",
       "0                17      Twitter Web App                              \n",
       "1                 0      Twitter Web App                      balls   \n",
       "2                 0            TweetDeck  Central Region, Singapore   \n",
       "3               909   Twitter for iPhone                              \n",
       "4                 0      Twitter Web App        Southern California   \n",
       "...             ...                  ...                        ...   \n",
       "1995             14  Twitter for Android                              \n",
       "1996             54      Twitter Web App        Parler (LunaticRex)   \n",
       "1997              9   Twitter for iPhone        Saint Petersburg Fl   \n",
       "1998              1      Twitter Web App                Scotland uk   \n",
       "1999              1      Twitter Web App    Makin, South Waziristan   \n",
       "\n",
       "      Subjectivity  Polarity  Analysis  \n",
       "0           0.0000       0.0   Neutral  \n",
       "1           0.0000       0.0   Neutral  \n",
       "2           0.0625       0.0   Neutral  \n",
       "3           0.5000       0.5  Positive  \n",
       "4           1.0000      -0.5  Negative  \n",
       "...            ...       ...       ...  \n",
       "1995        0.0000       0.0   Neutral  \n",
       "1996        0.2000      -0.3  Negative  \n",
       "1997        0.0000       0.0   Neutral  \n",
       "1998        0.0000       0.0   Neutral  \n",
       "1999        0.2000       0.0   Neutral  \n",
       "\n",
       "[2000 rows x 10 columns]"
      ]
     },
     "execution_count": 59,
     "metadata": {},
     "output_type": "execute_result"
    }
   ],
   "source": [
    "df"
   ]
  },
  {
   "cell_type": "code",
   "execution_count": 60,
   "metadata": {
    "ExecuteTime": {
     "end_time": "2021-09-01T11:50:57.206286Z",
     "start_time": "2021-09-01T11:50:57.186992Z"
    }
   },
   "outputs": [
    {
     "data": {
      "text/plain": [
       "Neutral     789\n",
       "Positive    784\n",
       "Negative    427\n",
       "Name: Analysis, dtype: int64"
      ]
     },
     "execution_count": 60,
     "metadata": {},
     "output_type": "execute_result"
    }
   ],
   "source": [
    "df[\"Analysis\"].value_counts()"
   ]
  },
  {
   "cell_type": "code",
   "execution_count": 61,
   "metadata": {
    "ExecuteTime": {
     "end_time": "2021-09-01T11:52:04.299248Z",
     "start_time": "2021-09-01T11:51:03.940383Z"
    }
   },
   "outputs": [
    {
     "data": {
      "image/png": "[encoded data removed]",
      "text/plain": [
       "<Figure size 576x432 with 1 Axes>"
      ]
     },
     "metadata": {
      "needs_background": "light"
     },
     "output_type": "display_data"
    }
   ],
   "source": [
    "plt.figure(figsize=(8,6))\n",
    "for i in range(0,df.shape[0]):\n",
    "    plt.scatter(df[\"Polarity\"][i],df[\"Subjectivity\"][i],color=\"Red\")\n",
    "    \n",
    "plt.title(\"Sentiment Analysis\")\n",
    "plt.xlabel(\"Polarity\")\n",
    "plt.ylabel(\"Subjectivity\")\n",
    "plt.show()"
   ]
  },
  {
   "cell_type": "code",
   "execution_count": null,
   "metadata": {},
   "outputs": [],
   "source": []
  },
  {
   "cell_type": "code",
   "execution_count": null,
   "metadata": {},
   "outputs": [],
   "source": []
  }
 ],
 "metadata": {
  "kernelspec": {
   "display_name": "Python 3",
   "language": "python",
   "name": "python3"
  },
  "language_info": {
   "codemirror_mode": {
    "name": "ipython",
    "version": 3
   },
   "file_extension": ".py",
   "mimetype": "text/x-python",
   "name": "python",
   "nbconvert_exporter": "python",
   "pygments_lexer": "ipython3",
   "version": "3.8.5"
  }
 },
 "nbformat": 4,
 "nbformat_minor": 4
}
